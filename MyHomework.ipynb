{
 "cells": [
  {
   "cell_type": "markdown",
   "id": "99a292c0-8797-4a20-9957-16a2f5822412",
   "metadata": {},
   "source": [
    "# This is my Final Project"
   ]
  },
  {
   "cell_type": "markdown",
   "id": "ddca3171-9404-4a3d-a1e7-c91ad5878682",
   "metadata": {},
   "source": [
    "# This my NoteBook where I present diferent cbasic concep like data science,library,language and some tools\n"
   ]
  },
  {
   "cell_type": "markdown",
   "id": "1e782990-f041-4ecc-bd8f-29b5165b6044",
   "metadata": {},
   "source": [
    "### Language for data science\n",
    "1. Python\n",
    "2. R\n",
    "3. SQL\n",
    "4. Java\n",
    "5. Julia"
   ]
  },
  {
   "cell_type": "markdown",
   "id": "6edcd6d0-d09b-46e8-80cb-cfe511fc7e95",
   "metadata": {},
   "source": [
    "### Popular library for data science\n",
    "1. Pandas\n",
    "2. Numpy\n",
    "3. Matplotib\n",
    "4. Scikit-learn\n",
    "5. TensorFlow"
   ]
  },
  {
   "cell_type": "markdown",
   "id": "371f1842-1f5e-418c-9075-9b3776ae33ae",
   "metadata": {},
   "source": [
    "### Tools of data science\n",
    " \n",
    "|    Tools       | Description           | \n",
    "|----------------|-----------------------| \n",
    "|Jupyter Notebook|interactive environment|       \n",
    "|Rstudio         | IDE for R             |\n",
    "|Apache Spark    | processing of data    |\n",
    "|Git             | version control       |"
   ]
  },
  {
   "cell_type": "code",
   "execution_count": 6,
   "id": "4a5f735f-b404-4bcf-82ca-6827292b7de9",
   "metadata": {},
   "outputs": [
    {
     "name": "stdout",
     "output_type": "stream",
     "text": [
      "9\n"
     ]
    }
   ],
   "source": [
    " #This a simple arithmetic expression\n",
    "a = 5 + 4\n",
    "print (a)"
   ]
  },
  {
   "cell_type": "code",
   "execution_count": 8,
   "id": "f5899db7-0372-43b5-b37f-a9c6c5e47eff",
   "metadata": {},
   "outputs": [
    {
     "name": "stdout",
     "output_type": "stream",
     "text": [
      "50\n"
     ]
    }
   ],
   "source": [
    "#This is a multiplication and addition\n",
    "\n",
    "A = (15*3)+5\n",
    "print(A)"
   ]
  },
  {
   "cell_type": "code",
   "execution_count": 9,
   "id": "d2c0dd45-0195-445a-bf75-4f575437e8d4",
   "metadata": {},
   "outputs": [
    {
     "name": "stdout",
     "output_type": "stream",
     "text": [
      "8.0 horas\n"
     ]
    }
   ],
   "source": [
    "# I will go to convert 480 minutes to hour\n",
    "m = 480\n",
    "m2 = 60\n",
    "h = m / m2\n",
    "print(f'{h} horas')"
   ]
  },
  {
   "cell_type": "markdown",
   "id": "27077faf-9449-475f-88f4-f41480ec4782",
   "metadata": {},
   "source": [
    "# Objetives\n",
    "1. Learn some data science languages\n",
    "2. Learn Some library for data science\n",
    "3. Use jupyter notebook with python\n",
    "4. Use arithmetic expressions\n",
    "5. Learn how to create a Markdown cell"
   ]
  },
  {
   "cell_type": "markdown",
   "id": "c37f05c2-b3d0-47b8-a306-9139178545b5",
   "metadata": {},
   "source": [
    "# AUTHOR \n",
    "\"OMAR A PEREZ GOMEZ\""
   ]
  }
 ],
 "metadata": {
  "kernelspec": {
   "display_name": "Python 3 (ipykernel)",
   "language": "python",
   "name": "python3"
  },
  "language_info": {
   "codemirror_mode": {
    "name": "ipython",
    "version": 3
   },
   "file_extension": ".py",
   "mimetype": "text/x-python",
   "name": "python",
   "nbconvert_exporter": "python",
   "pygments_lexer": "ipython3",
   "version": "3.13.5"
  }
 },
 "nbformat": 4,
 "nbformat_minor": 5
}
